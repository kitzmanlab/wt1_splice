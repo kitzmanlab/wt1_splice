{
 "cells": [
  {
   "cell_type": "code",
   "execution_count": 1,
   "id": "fbe296d1",
   "metadata": {},
   "outputs": [],
   "source": [
    "import pybedtools as pbt\n",
    "import pysam\n",
    "import pandas as pd\n",
    "import seaborn as sns\n",
    "import numpy as np\n",
    "import matplotlib.pyplot as plt"
   ]
  },
  {
   "cell_type": "code",
   "execution_count": 2,
   "id": "b3b62bd1",
   "metadata": {},
   "outputs": [],
   "source": [
    "import os.path as op"
   ]
  },
  {
   "cell_type": "code",
   "execution_count": 3,
   "id": "d37461f7",
   "metadata": {},
   "outputs": [
    {
     "name": "stderr",
     "output_type": "stream",
     "text": [
      "Using TensorFlow backend.\n"
     ]
    }
   ],
   "source": [
    "import splanl.junction_scorer as jn\n",
    "import splanl.merge_bcs as mbcs\n",
    "import splanl.coords as coords\n",
    "import splanl.plots as sp\n",
    "import splanl.score_motifs as sm\n",
    "import splanl.inspect_variants as iv\n",
    "import splanl.post_processing as pp"
   ]
  },
  {
   "cell_type": "code",
   "execution_count": 4,
   "id": "d80f07c3",
   "metadata": {},
   "outputs": [],
   "source": [
    "fa_file = '/nfs/kitzman2/jacob/proj/jensplice/20220415_wt1_mpsa_trial3/jkp1053_1054_1055.fa'"
   ]
  },
  {
   "cell_type": "code",
   "execution_count": 5,
   "id": "7e5cba9a",
   "metadata": {},
   "outputs": [],
   "source": [
    "refseq = pp.get_refseq( fa_file )"
   ]
  },
  {
   "cell_type": "code",
   "execution_count": 6,
   "id": "c09d841c",
   "metadata": {},
   "outputs": [],
   "source": [
    "bam = '/nfs/kitzman2/jacob/proj/jensplice/20220415_wt1_mpsa_trial3/process_star/BB_test_Cos1053_JKLab0340_MM1B/BB_test_Cos1053_JKLab0340_MM1BAligned.out.wbcs.bam'"
   ]
  },
  {
   "cell_type": "code",
   "execution_count": 7,
   "id": "60dcc7ff",
   "metadata": {},
   "outputs": [],
   "source": [
    "msamp_fn = { 'MM1B': bam }"
   ]
  },
  {
   "cell_type": "code",
   "execution_count": 8,
   "id": "38097c5f",
   "metadata": {},
   "outputs": [],
   "source": [
    "msamp_rnabam = { samp: pysam.AlignmentFile( msamp_fn[ samp ], 'rb' ) for samp in msamp_fn }"
   ]
  },
  {
   "cell_type": "code",
   "execution_count": 9,
   "id": "398b42cb",
   "metadata": {},
   "outputs": [
    {
     "name": "stdout",
     "output_type": "stream",
     "text": [
      "CPU times: user 11.6 s, sys: 174 ms, total: 11.7 s\n",
      "Wall time: 11.7 s\n"
     ]
    }
   ],
   "source": [
    "%%time\n",
    "#I made this more stringent than MSH2 since there is less skipping\n",
    "#requiring 90 forward and 70 reverse matches\n",
    "isos_dfs = { samp: jn.get_all_isoforms_pe( msamp_rnabam[ samp ],\n",
    "                                           [ ( 649, 696 ), ( 3478, 3533 ) ],\n",
    "                                            spl_tol = 3,\n",
    "                                            indel_tol = 20,\n",
    "                                            min_matches_for = 90,\n",
    "                                            min_matches_rev = 70 )\n",
    "             for samp in msamp_rnabam }"
   ]
  },
  {
   "cell_type": "code",
   "execution_count": 10,
   "id": "a7736dad",
   "metadata": {},
   "outputs": [
    {
     "data": {
      "text/html": [
       "<div>\n",
       "<style scoped>\n",
       "    .dataframe tbody tr th:only-of-type {\n",
       "        vertical-align: middle;\n",
       "    }\n",
       "\n",
       "    .dataframe tbody tr th {\n",
       "        vertical-align: top;\n",
       "    }\n",
       "\n",
       "    .dataframe thead th {\n",
       "        text-align: right;\n",
       "    }\n",
       "</style>\n",
       "<table border=\"1\" class=\"dataframe\">\n",
       "  <thead>\n",
       "    <tr style=\"text-align: right;\">\n",
       "      <th></th>\n",
       "      <th>read_count</th>\n",
       "    </tr>\n",
       "    <tr>\n",
       "      <th>isoform</th>\n",
       "      <th></th>\n",
       "    </tr>\n",
       "  </thead>\n",
       "  <tbody>\n",
       "    <tr>\n",
       "      <th>((1267, 1359),)</th>\n",
       "      <td>430060</td>\n",
       "    </tr>\n",
       "    <tr>\n",
       "      <th>((1267, 1350),)</th>\n",
       "      <td>423809</td>\n",
       "    </tr>\n",
       "    <tr>\n",
       "      <th>()</th>\n",
       "      <td>18168</td>\n",
       "    </tr>\n",
       "    <tr>\n",
       "      <th>((1284, 1359),)</th>\n",
       "      <td>3276</td>\n",
       "    </tr>\n",
       "    <tr>\n",
       "      <th>((1284, 1350),)</th>\n",
       "      <td>2512</td>\n",
       "    </tr>\n",
       "    <tr>\n",
       "      <th>((1268, 1350),)</th>\n",
       "      <td>1060</td>\n",
       "    </tr>\n",
       "    <tr>\n",
       "      <th>((1269, 1350),)</th>\n",
       "      <td>667</td>\n",
       "    </tr>\n",
       "    <tr>\n",
       "      <th>((1281, 1350),)</th>\n",
       "      <td>615</td>\n",
       "    </tr>\n",
       "    <tr>\n",
       "      <th>((1269, 1359),)</th>\n",
       "      <td>580</td>\n",
       "    </tr>\n",
       "    <tr>\n",
       "      <th>((1267, 1293), (1334, 1359))</th>\n",
       "      <td>454</td>\n",
       "    </tr>\n",
       "    <tr>\n",
       "      <th>((1267, 1294), (1335, 1359))</th>\n",
       "      <td>443</td>\n",
       "    </tr>\n",
       "    <tr>\n",
       "      <th>((1267, 1273), (1295, 1359))</th>\n",
       "      <td>440</td>\n",
       "    </tr>\n",
       "    <tr>\n",
       "      <th>((1267, 1284), (1321, 1359))</th>\n",
       "      <td>419</td>\n",
       "    </tr>\n",
       "    <tr>\n",
       "      <th>((1236, 1350),)</th>\n",
       "      <td>378</td>\n",
       "    </tr>\n",
       "    <tr>\n",
       "      <th>((1236, 1359),)</th>\n",
       "      <td>371</td>\n",
       "    </tr>\n",
       "    <tr>\n",
       "      <th>((1299, 1359),)</th>\n",
       "      <td>332</td>\n",
       "    </tr>\n",
       "    <tr>\n",
       "      <th>((1267, 1303), (1326, 1359))</th>\n",
       "      <td>288</td>\n",
       "    </tr>\n",
       "    <tr>\n",
       "      <th>((1270, 1359),)</th>\n",
       "      <td>268</td>\n",
       "    </tr>\n",
       "    <tr>\n",
       "      <th>((1267, 1328), (1354, 1359))</th>\n",
       "      <td>259</td>\n",
       "    </tr>\n",
       "    <tr>\n",
       "      <th>((1267, 1286), (1336, 1359))</th>\n",
       "      <td>247</td>\n",
       "    </tr>\n",
       "  </tbody>\n",
       "</table>\n",
       "</div>"
      ],
      "text/plain": [
       "                              read_count\n",
       "isoform                                 \n",
       "((1267, 1359),)                   430060\n",
       "((1267, 1350),)                   423809\n",
       "()                                 18168\n",
       "((1284, 1359),)                     3276\n",
       "((1284, 1350),)                     2512\n",
       "((1268, 1350),)                     1060\n",
       "((1269, 1350),)                      667\n",
       "((1281, 1350),)                      615\n",
       "((1269, 1359),)                      580\n",
       "((1267, 1293), (1334, 1359))         454\n",
       "((1267, 1294), (1335, 1359))         443\n",
       "((1267, 1273), (1295, 1359))         440\n",
       "((1267, 1284), (1321, 1359))         419\n",
       "((1236, 1350),)                      378\n",
       "((1236, 1359),)                      371\n",
       "((1299, 1359),)                      332\n",
       "((1267, 1303), (1326, 1359))         288\n",
       "((1270, 1359),)                      268\n",
       "((1267, 1328), (1354, 1359))         259\n",
       "((1267, 1286), (1336, 1359))         247"
      ]
     },
     "execution_count": 10,
     "metadata": {},
     "output_type": "execute_result"
    }
   ],
   "source": [
    "isos_dfs[ 'MM1B' ].head( 20 )"
   ]
  },
  {
   "cell_type": "code",
   "execution_count": 11,
   "id": "823f6dea",
   "metadata": {},
   "outputs": [
    {
     "name": "stdout",
     "output_type": "stream",
     "text": [
      "MM1B\n",
      "CPU times: user 35.5 ms, sys: 937 µs, total: 36.4 ms\n",
      "Wall time: 35.6 ms\n"
     ]
    }
   ],
   "source": [
    "%%time\n",
    "isogrp_df = jn.number_and_merge_isoforms( isos_dfs )"
   ]
  },
  {
   "cell_type": "code",
   "execution_count": 12,
   "id": "6a76b8ac",
   "metadata": {},
   "outputs": [
    {
     "data": {
      "text/html": [
       "<div>\n",
       "<style scoped>\n",
       "    .dataframe tbody tr th:only-of-type {\n",
       "        vertical-align: middle;\n",
       "    }\n",
       "\n",
       "    .dataframe tbody tr th {\n",
       "        vertical-align: top;\n",
       "    }\n",
       "\n",
       "    .dataframe thead th {\n",
       "        text-align: right;\n",
       "    }\n",
       "</style>\n",
       "<table border=\"1\" class=\"dataframe\">\n",
       "  <thead>\n",
       "    <tr style=\"text-align: right;\">\n",
       "      <th></th>\n",
       "      <th>isoform</th>\n",
       "      <th>MM1B_read_count</th>\n",
       "    </tr>\n",
       "    <tr>\n",
       "      <th>isonum</th>\n",
       "      <th></th>\n",
       "      <th></th>\n",
       "    </tr>\n",
       "  </thead>\n",
       "  <tbody>\n",
       "    <tr>\n",
       "      <th>iso000</th>\n",
       "      <td>((1267, 1278), (1305, 1350))</td>\n",
       "      <td>159</td>\n",
       "    </tr>\n",
       "    <tr>\n",
       "      <th>iso001</th>\n",
       "      <td>((1136, 1359),)</td>\n",
       "      <td>14</td>\n",
       "    </tr>\n",
       "    <tr>\n",
       "      <th>iso002</th>\n",
       "      <td>((1190, 1226), (1260, 1359))</td>\n",
       "      <td>18</td>\n",
       "    </tr>\n",
       "    <tr>\n",
       "      <th>iso003</th>\n",
       "      <td>((1265, 1359),)</td>\n",
       "      <td>21</td>\n",
       "    </tr>\n",
       "    <tr>\n",
       "      <th>iso004</th>\n",
       "      <td>((1267, 1349),)</td>\n",
       "      <td>34</td>\n",
       "    </tr>\n",
       "  </tbody>\n",
       "</table>\n",
       "</div>"
      ],
      "text/plain": [
       "                             isoform  MM1B_read_count\n",
       "isonum                                               \n",
       "iso000  ((1267, 1278), (1305, 1350))              159\n",
       "iso001               ((1136, 1359),)               14\n",
       "iso002  ((1190, 1226), (1260, 1359))               18\n",
       "iso003               ((1265, 1359),)               21\n",
       "iso004               ((1267, 1349),)               34"
      ]
     },
     "execution_count": 12,
     "metadata": {},
     "output_type": "execute_result"
    }
   ],
   "source": [
    "isogrp_df.head()"
   ]
  },
  {
   "cell_type": "code",
   "execution_count": 13,
   "id": "24c2eca8",
   "metadata": {},
   "outputs": [
    {
     "data": {
      "text/html": [
       "<div>\n",
       "<style scoped>\n",
       "    .dataframe tbody tr th:only-of-type {\n",
       "        vertical-align: middle;\n",
       "    }\n",
       "\n",
       "    .dataframe tbody tr th {\n",
       "        vertical-align: top;\n",
       "    }\n",
       "\n",
       "    .dataframe thead th {\n",
       "        text-align: right;\n",
       "    }\n",
       "</style>\n",
       "<table border=\"1\" class=\"dataframe\">\n",
       "  <thead>\n",
       "    <tr style=\"text-align: right;\">\n",
       "      <th></th>\n",
       "      <th>isoform</th>\n",
       "      <th>MM1B_read_count</th>\n",
       "    </tr>\n",
       "    <tr>\n",
       "      <th>isonum</th>\n",
       "      <th></th>\n",
       "      <th></th>\n",
       "    </tr>\n",
       "  </thead>\n",
       "  <tbody>\n",
       "    <tr>\n",
       "      <th>iso255</th>\n",
       "      <td>((1267, 1359),)</td>\n",
       "      <td>430060</td>\n",
       "    </tr>\n",
       "  </tbody>\n",
       "</table>\n",
       "</div>"
      ],
      "text/plain": [
       "                isoform  MM1B_read_count\n",
       "isonum                                  \n",
       "iso255  ((1267, 1359),)           430060"
      ]
     },
     "execution_count": 13,
     "metadata": {},
     "output_type": "execute_result"
    }
   ],
   "source": [
    "isogrp_df.loc[ isogrp_df.isoform == ((1267, 1359),) ]"
   ]
  },
  {
   "cell_type": "code",
   "execution_count": 14,
   "id": "373a9729",
   "metadata": {},
   "outputs": [
    {
     "data": {
      "text/html": [
       "<div>\n",
       "<style scoped>\n",
       "    .dataframe tbody tr th:only-of-type {\n",
       "        vertical-align: middle;\n",
       "    }\n",
       "\n",
       "    .dataframe tbody tr th {\n",
       "        vertical-align: top;\n",
       "    }\n",
       "\n",
       "    .dataframe thead th {\n",
       "        text-align: right;\n",
       "    }\n",
       "</style>\n",
       "<table border=\"1\" class=\"dataframe\">\n",
       "  <thead>\n",
       "    <tr style=\"text-align: right;\">\n",
       "      <th></th>\n",
       "      <th>isoform</th>\n",
       "      <th>MM1B_read_count</th>\n",
       "    </tr>\n",
       "    <tr>\n",
       "      <th>isonum</th>\n",
       "      <th></th>\n",
       "      <th></th>\n",
       "    </tr>\n",
       "  </thead>\n",
       "  <tbody>\n",
       "    <tr>\n",
       "      <th>iso308</th>\n",
       "      <td>((1267, 1350),)</td>\n",
       "      <td>423809</td>\n",
       "    </tr>\n",
       "  </tbody>\n",
       "</table>\n",
       "</div>"
      ],
      "text/plain": [
       "                isoform  MM1B_read_count\n",
       "isonum                                  \n",
       "iso308  ((1267, 1350),)           423809"
      ]
     },
     "execution_count": 14,
     "metadata": {},
     "output_type": "execute_result"
    }
   ],
   "source": [
    "isogrp_df.loc[ isogrp_df.isoform == ((1267, 1350),) ]"
   ]
  },
  {
   "cell_type": "code",
   "execution_count": 15,
   "id": "93dc87b6",
   "metadata": {},
   "outputs": [],
   "source": [
    "satbl = pd.read_csv( '/nfs/turbo/umms-kitzmanj/oldvol2/jacob/proj/jensplice/20220426_wt1_subasm_filter_stringent/sapipe/sa/JKP1053.haps.all.txt',\n",
    "                    sep='\\t' )\n",
    "\n",
    "satbl = satbl.set_index( 'readgroupid' )"
   ]
  },
  {
   "cell_type": "code",
   "execution_count": 16,
   "id": "a66a7d7d",
   "metadata": {},
   "outputs": [
    {
     "data": {
      "text/html": [
       "<div>\n",
       "<style scoped>\n",
       "    .dataframe tbody tr th:only-of-type {\n",
       "        vertical-align: middle;\n",
       "    }\n",
       "\n",
       "    .dataframe tbody tr th {\n",
       "        vertical-align: top;\n",
       "    }\n",
       "\n",
       "    .dataframe thead th {\n",
       "        text-align: right;\n",
       "    }\n",
       "</style>\n",
       "<table border=\"1\" class=\"dataframe\">\n",
       "  <thead>\n",
       "    <tr style=\"text-align: right;\">\n",
       "      <th></th>\n",
       "      <th>passes</th>\n",
       "      <th>status</th>\n",
       "      <th>n_variants_passing</th>\n",
       "      <th>variant_list</th>\n",
       "    </tr>\n",
       "    <tr>\n",
       "      <th>readgroupid</th>\n",
       "      <th></th>\n",
       "      <th></th>\n",
       "      <th></th>\n",
       "      <th></th>\n",
       "    </tr>\n",
       "  </thead>\n",
       "  <tbody>\n",
       "    <tr>\n",
       "      <th>AAAAAAAATCACGACCCTCCTGG</th>\n",
       "      <td>False</td>\n",
       "      <td>possible_chimeric_no_major_variant</td>\n",
       "      <td>6</td>\n",
       "      <td>jkp815:1225:CACAT:CC,jkp815:1231:GTTAG:GTAG,jk...</td>\n",
       "    </tr>\n",
       "    <tr>\n",
       "      <th>AAAAAAAGGGCTTCCGGGTATGG</th>\n",
       "      <td>True</td>\n",
       "      <td>no_variants_input</td>\n",
       "      <td>0</td>\n",
       "      <td>NaN</td>\n",
       "    </tr>\n",
       "    <tr>\n",
       "      <th>AAAAAAAGGGTTCCAGACTGTGG</th>\n",
       "      <td>False</td>\n",
       "      <td>toomanymajorvar</td>\n",
       "      <td>2</td>\n",
       "      <td>jkp815:1252:T:G,jkp815:1279:TCCAGTGTAAAACTTGTC...</td>\n",
       "    </tr>\n",
       "    <tr>\n",
       "      <th>AAAAAAAGTAGTCTGGTGTGTGG</th>\n",
       "      <td>True</td>\n",
       "      <td>pass</td>\n",
       "      <td>1</td>\n",
       "      <td>jkp815:1387:T:C</td>\n",
       "    </tr>\n",
       "    <tr>\n",
       "      <th>AAAAAAATACCCCGGATGATTGG</th>\n",
       "      <td>False</td>\n",
       "      <td>possible_chimeric_no_major_variant</td>\n",
       "      <td>1</td>\n",
       "      <td>jkp815:1392:T:A</td>\n",
       "    </tr>\n",
       "    <tr>\n",
       "      <th>...</th>\n",
       "      <td>...</td>\n",
       "      <td>...</td>\n",
       "      <td>...</td>\n",
       "      <td>...</td>\n",
       "    </tr>\n",
       "    <tr>\n",
       "      <th>TTTTTTTTTTATAGTCCTACTGG</th>\n",
       "      <td>False</td>\n",
       "      <td>possible_chimeric_no_major_variant</td>\n",
       "      <td>3</td>\n",
       "      <td>jkp815:1227:C:G,jkp815:1228:A:T,jkp815:1374:C:T</td>\n",
       "    </tr>\n",
       "    <tr>\n",
       "      <th>TTTTTTTTTTGGTTGGCGTTTGG</th>\n",
       "      <td>False</td>\n",
       "      <td>possible_chimeric_no_major_variant</td>\n",
       "      <td>1</td>\n",
       "      <td>jkp815:1285:G:T</td>\n",
       "    </tr>\n",
       "    <tr>\n",
       "      <th>TTTTTTTTTTGTACTTTTCTGG</th>\n",
       "      <td>False</td>\n",
       "      <td>possible_chimeric_no_major_variant</td>\n",
       "      <td>1</td>\n",
       "      <td>jkp815:1397:T:G</td>\n",
       "    </tr>\n",
       "    <tr>\n",
       "      <th>TTTTTTTTTTGTGACAAGGATGG</th>\n",
       "      <td>False</td>\n",
       "      <td>possible_chimeric_no_major_variant</td>\n",
       "      <td>1</td>\n",
       "      <td>jkp815:1303:A:G</td>\n",
       "    </tr>\n",
       "    <tr>\n",
       "      <th>TTTTTTTTTTGTTGTACGATGTGG</th>\n",
       "      <td>True</td>\n",
       "      <td>no_variants_input</td>\n",
       "      <td>0</td>\n",
       "      <td>NaN</td>\n",
       "    </tr>\n",
       "  </tbody>\n",
       "</table>\n",
       "<p>413274 rows × 4 columns</p>\n",
       "</div>"
      ],
      "text/plain": [
       "                          passes                              status  \\\n",
       "readgroupid                                                            \n",
       "AAAAAAAATCACGACCCTCCTGG    False  possible_chimeric_no_major_variant   \n",
       "AAAAAAAGGGCTTCCGGGTATGG     True                   no_variants_input   \n",
       "AAAAAAAGGGTTCCAGACTGTGG    False                     toomanymajorvar   \n",
       "AAAAAAAGTAGTCTGGTGTGTGG     True                                pass   \n",
       "AAAAAAATACCCCGGATGATTGG    False  possible_chimeric_no_major_variant   \n",
       "...                          ...                                 ...   \n",
       "TTTTTTTTTTATAGTCCTACTGG    False  possible_chimeric_no_major_variant   \n",
       "TTTTTTTTTTGGTTGGCGTTTGG    False  possible_chimeric_no_major_variant   \n",
       "TTTTTTTTTTGTACTTTTCTGG     False  possible_chimeric_no_major_variant   \n",
       "TTTTTTTTTTGTGACAAGGATGG    False  possible_chimeric_no_major_variant   \n",
       "TTTTTTTTTTGTTGTACGATGTGG    True                   no_variants_input   \n",
       "\n",
       "                          n_variants_passing  \\\n",
       "readgroupid                                    \n",
       "AAAAAAAATCACGACCCTCCTGG                    6   \n",
       "AAAAAAAGGGCTTCCGGGTATGG                    0   \n",
       "AAAAAAAGGGTTCCAGACTGTGG                    2   \n",
       "AAAAAAAGTAGTCTGGTGTGTGG                    1   \n",
       "AAAAAAATACCCCGGATGATTGG                    1   \n",
       "...                                      ...   \n",
       "TTTTTTTTTTATAGTCCTACTGG                    3   \n",
       "TTTTTTTTTTGGTTGGCGTTTGG                    1   \n",
       "TTTTTTTTTTGTACTTTTCTGG                     1   \n",
       "TTTTTTTTTTGTGACAAGGATGG                    1   \n",
       "TTTTTTTTTTGTTGTACGATGTGG                   0   \n",
       "\n",
       "                                                               variant_list  \n",
       "readgroupid                                                                  \n",
       "AAAAAAAATCACGACCCTCCTGG   jkp815:1225:CACAT:CC,jkp815:1231:GTTAG:GTAG,jk...  \n",
       "AAAAAAAGGGCTTCCGGGTATGG                                                 NaN  \n",
       "AAAAAAAGGGTTCCAGACTGTGG   jkp815:1252:T:G,jkp815:1279:TCCAGTGTAAAACTTGTC...  \n",
       "AAAAAAAGTAGTCTGGTGTGTGG                                     jkp815:1387:T:C  \n",
       "AAAAAAATACCCCGGATGATTGG                                     jkp815:1392:T:A  \n",
       "...                                                                     ...  \n",
       "TTTTTTTTTTATAGTCCTACTGG     jkp815:1227:C:G,jkp815:1228:A:T,jkp815:1374:C:T  \n",
       "TTTTTTTTTTGGTTGGCGTTTGG                                     jkp815:1285:G:T  \n",
       "TTTTTTTTTTGTACTTTTCTGG                                      jkp815:1397:T:G  \n",
       "TTTTTTTTTTGTGACAAGGATGG                                     jkp815:1303:A:G  \n",
       "TTTTTTTTTTGTTGTACGATGTGG                                                NaN  \n",
       "\n",
       "[413274 rows x 4 columns]"
      ]
     },
     "execution_count": 16,
     "metadata": {},
     "output_type": "execute_result"
    }
   ],
   "source": [
    "satbl"
   ]
  },
  {
   "cell_type": "code",
   "execution_count": 17,
   "id": "62a31775",
   "metadata": {},
   "outputs": [],
   "source": [
    "exonbed = pbt.BedTool( '/nfs/kitzman2/smithcat/proj/wt1_2022/refs/wt1_ex9.bed' )"
   ]
  },
  {
   "cell_type": "code",
   "execution_count": 18,
   "id": "0745fff6",
   "metadata": {},
   "outputs": [],
   "source": [
    "isos = jn.make_junction_graph( exonbed )"
   ]
  },
  {
   "cell_type": "code",
   "execution_count": 19,
   "id": "101e1413",
   "metadata": {},
   "outputs": [
    {
     "data": {
      "text/plain": [
       "{'iso00': ((650, 696), (1267, 1350), (3479, 3533)),\n",
       " 'iso01': ((650, 696), (1267, 1359), (3479, 3533)),\n",
       " 'iso02': ((650, 696), (3479, 3533))}"
      ]
     },
     "execution_count": 19,
     "metadata": {},
     "output_type": "execute_result"
    }
   ],
   "source": [
    "isos"
   ]
  },
  {
   "cell_type": "code",
   "execution_count": 20,
   "id": "73b87541",
   "metadata": {},
   "outputs": [],
   "source": [
    "unique_jns = list( { jn for grp,jn_tups in isos.items() for jn_tup in jn_tups for jn in jn_tup\n",
    "                       if 696 < jn < 3479 } ) "
   ]
  },
  {
   "cell_type": "code",
   "execution_count": 21,
   "id": "bf81c986",
   "metadata": {},
   "outputs": [
    {
     "data": {
      "text/plain": [
       "[1267, 1350, 1359]"
      ]
     },
     "execution_count": 21,
     "metadata": {},
     "output_type": "execute_result"
    }
   ],
   "source": [
    "unique_jns"
   ]
  },
  {
   "cell_type": "code",
   "execution_count": 22,
   "id": "6d148a06",
   "metadata": {},
   "outputs": [],
   "source": [
    "msamp_rnabam = { samp : pysam.AlignmentFile( msamp_fn[ samp ], 'rb' ) for samp in msamp_fn }"
   ]
  },
  {
   "cell_type": "code",
   "execution_count": null,
   "id": "1c374b85",
   "metadata": {},
   "outputs": [
    {
     "name": "stdout",
     "output_type": "stream",
     "text": [
      "MM1B\n",
      "Barcodes processed: 1000\n",
      "Reads processed: 18606\n",
      "Barcodes processed: 2000\n",
      "Reads processed: 37556\n",
      "Barcodes processed: 3000\n",
      "Reads processed: 54317\n",
      "Barcodes processed: 4000\n",
      "Reads processed: 71871\n",
      "Barcodes processed: 5000\n",
      "Reads processed: 89802\n",
      "Barcodes processed: 6000\n",
      "Reads processed: 107974\n",
      "Barcodes processed: 7000\n",
      "Reads processed: 126266\n",
      "Barcodes processed: 8000\n",
      "Reads processed: 143499\n",
      "Barcodes processed: 9000\n",
      "Reads processed: 162856\n",
      "Barcodes processed: 10000\n",
      "Reads processed: 183253\n",
      "Barcodes processed: 11000\n",
      "Reads processed: 202427\n",
      "Barcodes processed: 12000\n",
      "Reads processed: 219819\n",
      "Barcodes processed: 13000\n",
      "Reads processed: 236692\n"
     ]
    }
   ],
   "source": [
    "%%time\n",
    "#18 min/sample\n",
    "\n",
    "iso_df_stats = jn.summarize_isos_by_var_bc_pe( msamp_rnabam,\n",
    "                                            [ ( 649, 696 ), ( 3478, 3533 ) ],\n",
    "                                            satbl,\n",
    "                                            isogrp_df,\n",
    "                                            unique_jns,\n",
    "                                            [ ( ( 1266, 1350 ), ), ( ( 1266, 1359 ), ), () ],\n",
    "                                            spl_tol = 3,\n",
    "                                            indel_tol = 20,\n",
    "                                            min_matches_for = 90,\n",
    "                                            min_matches_rev = 70,\n",
    "                                            bc_tag = 'BC',\n",
    "                                          )\n"
   ]
  },
  {
   "cell_type": "code",
   "execution_count": 24,
   "id": "461c7104",
   "metadata": {},
   "outputs": [
    {
     "data": {
      "text/html": [
       "<div>\n",
       "<style scoped>\n",
       "    .dataframe tbody tr th:only-of-type {\n",
       "        vertical-align: middle;\n",
       "    }\n",
       "\n",
       "    .dataframe tbody tr th {\n",
       "        vertical-align: top;\n",
       "    }\n",
       "\n",
       "    .dataframe thead th {\n",
       "        text-align: right;\n",
       "    }\n",
       "</style>\n",
       "<table border=\"1\" class=\"dataframe\">\n",
       "  <thead>\n",
       "    <tr style=\"text-align: right;\">\n",
       "      <th></th>\n",
       "      <th>isoform</th>\n",
       "      <th>MM1B_read_count</th>\n",
       "      <th>MM1B_num_bcs</th>\n",
       "      <th>MM1B_num_vars</th>\n",
       "      <th>MM1B_max_reads_per_bc</th>\n",
       "      <th>MM1B_max_bc_per_var</th>\n",
       "      <th>MM1B_filter</th>\n",
       "      <th>total_read_count</th>\n",
       "      <th>total_num_bcs</th>\n",
       "      <th>total_num_vars</th>\n",
       "      <th>total_passfilt</th>\n",
       "    </tr>\n",
       "    <tr>\n",
       "      <th>isonum</th>\n",
       "      <th></th>\n",
       "      <th></th>\n",
       "      <th></th>\n",
       "      <th></th>\n",
       "      <th></th>\n",
       "      <th></th>\n",
       "      <th></th>\n",
       "      <th></th>\n",
       "      <th></th>\n",
       "      <th></th>\n",
       "      <th></th>\n",
       "    </tr>\n",
       "  </thead>\n",
       "  <tbody>\n",
       "    <tr>\n",
       "      <th>iso000</th>\n",
       "      <td>((1267, 1278), (1305, 1350))</td>\n",
       "      <td>159</td>\n",
       "      <td>7.0</td>\n",
       "      <td>7.0</td>\n",
       "      <td>1.0</td>\n",
       "      <td>1.0</td>\n",
       "      <td>0.0</td>\n",
       "      <td>159</td>\n",
       "      <td>7.0</td>\n",
       "      <td>7.0</td>\n",
       "      <td>0</td>\n",
       "    </tr>\n",
       "    <tr>\n",
       "      <th>iso001</th>\n",
       "      <td>((1136, 1359),)</td>\n",
       "      <td>14</td>\n",
       "      <td>3.0</td>\n",
       "      <td>3.0</td>\n",
       "      <td>1.0</td>\n",
       "      <td>1.0</td>\n",
       "      <td>0.0</td>\n",
       "      <td>14</td>\n",
       "      <td>3.0</td>\n",
       "      <td>3.0</td>\n",
       "      <td>0</td>\n",
       "    </tr>\n",
       "    <tr>\n",
       "      <th>iso002</th>\n",
       "      <td>((1190, 1226), (1260, 1359))</td>\n",
       "      <td>18</td>\n",
       "      <td>3.0</td>\n",
       "      <td>3.0</td>\n",
       "      <td>15.0</td>\n",
       "      <td>1.0</td>\n",
       "      <td>0.0</td>\n",
       "      <td>18</td>\n",
       "      <td>3.0</td>\n",
       "      <td>3.0</td>\n",
       "      <td>0</td>\n",
       "    </tr>\n",
       "    <tr>\n",
       "      <th>iso003</th>\n",
       "      <td>((1265, 1359),)</td>\n",
       "      <td>21</td>\n",
       "      <td>3.0</td>\n",
       "      <td>3.0</td>\n",
       "      <td>7.0</td>\n",
       "      <td>1.0</td>\n",
       "      <td>3.0</td>\n",
       "      <td>21</td>\n",
       "      <td>3.0</td>\n",
       "      <td>3.0</td>\n",
       "      <td>1</td>\n",
       "    </tr>\n",
       "    <tr>\n",
       "      <th>iso004</th>\n",
       "      <td>((1267, 1349),)</td>\n",
       "      <td>34</td>\n",
       "      <td>2.0</td>\n",
       "      <td>2.0</td>\n",
       "      <td>1.0</td>\n",
       "      <td>1.0</td>\n",
       "      <td>0.0</td>\n",
       "      <td>34</td>\n",
       "      <td>2.0</td>\n",
       "      <td>2.0</td>\n",
       "      <td>0</td>\n",
       "    </tr>\n",
       "    <tr>\n",
       "      <th>...</th>\n",
       "      <td>...</td>\n",
       "      <td>...</td>\n",
       "      <td>...</td>\n",
       "      <td>...</td>\n",
       "      <td>...</td>\n",
       "      <td>...</td>\n",
       "      <td>...</td>\n",
       "      <td>...</td>\n",
       "      <td>...</td>\n",
       "      <td>...</td>\n",
       "      <td>...</td>\n",
       "    </tr>\n",
       "    <tr>\n",
       "      <th>iso320</th>\n",
       "      <td>((1000, 3161),)</td>\n",
       "      <td>1</td>\n",
       "      <td>0.0</td>\n",
       "      <td>0.0</td>\n",
       "      <td>0.0</td>\n",
       "      <td>0.0</td>\n",
       "      <td>0.0</td>\n",
       "      <td>1</td>\n",
       "      <td>0.0</td>\n",
       "      <td>0.0</td>\n",
       "      <td>0</td>\n",
       "    </tr>\n",
       "    <tr>\n",
       "      <th>iso321</th>\n",
       "      <td>((1267, 1327), (2028, 2034), (2235, 2242))</td>\n",
       "      <td>2</td>\n",
       "      <td>1.0</td>\n",
       "      <td>1.0</td>\n",
       "      <td>1.0</td>\n",
       "      <td>1.0</td>\n",
       "      <td>0.0</td>\n",
       "      <td>2</td>\n",
       "      <td>1.0</td>\n",
       "      <td>1.0</td>\n",
       "      <td>0</td>\n",
       "    </tr>\n",
       "    <tr>\n",
       "      <th>iso322</th>\n",
       "      <td>((1329, 1359),)</td>\n",
       "      <td>1</td>\n",
       "      <td>1.0</td>\n",
       "      <td>1.0</td>\n",
       "      <td>1.0</td>\n",
       "      <td>1.0</td>\n",
       "      <td>0.0</td>\n",
       "      <td>1</td>\n",
       "      <td>1.0</td>\n",
       "      <td>1.0</td>\n",
       "      <td>0</td>\n",
       "    </tr>\n",
       "    <tr>\n",
       "      <th>iso323</th>\n",
       "      <td>((1267, 1327), (1351, 1359))</td>\n",
       "      <td>87</td>\n",
       "      <td>6.0</td>\n",
       "      <td>6.0</td>\n",
       "      <td>42.0</td>\n",
       "      <td>1.0</td>\n",
       "      <td>3.0</td>\n",
       "      <td>87</td>\n",
       "      <td>6.0</td>\n",
       "      <td>6.0</td>\n",
       "      <td>1</td>\n",
       "    </tr>\n",
       "    <tr>\n",
       "      <th>iso324</th>\n",
       "      <td>((1267, 1279), (1322, 1359))</td>\n",
       "      <td>215</td>\n",
       "      <td>10.0</td>\n",
       "      <td>10.0</td>\n",
       "      <td>1.0</td>\n",
       "      <td>1.0</td>\n",
       "      <td>0.0</td>\n",
       "      <td>215</td>\n",
       "      <td>10.0</td>\n",
       "      <td>10.0</td>\n",
       "      <td>0</td>\n",
       "    </tr>\n",
       "  </tbody>\n",
       "</table>\n",
       "<p>325 rows × 11 columns</p>\n",
       "</div>"
      ],
      "text/plain": [
       "                                           isoform  MM1B_read_count  \\\n",
       "isonum                                                                \n",
       "iso000                ((1267, 1278), (1305, 1350))              159   \n",
       "iso001                             ((1136, 1359),)               14   \n",
       "iso002                ((1190, 1226), (1260, 1359))               18   \n",
       "iso003                             ((1265, 1359),)               21   \n",
       "iso004                             ((1267, 1349),)               34   \n",
       "...                                            ...              ...   \n",
       "iso320                             ((1000, 3161),)                1   \n",
       "iso321  ((1267, 1327), (2028, 2034), (2235, 2242))                2   \n",
       "iso322                             ((1329, 1359),)                1   \n",
       "iso323                ((1267, 1327), (1351, 1359))               87   \n",
       "iso324                ((1267, 1279), (1322, 1359))              215   \n",
       "\n",
       "        MM1B_num_bcs  MM1B_num_vars  MM1B_max_reads_per_bc  \\\n",
       "isonum                                                       \n",
       "iso000           7.0            7.0                    1.0   \n",
       "iso001           3.0            3.0                    1.0   \n",
       "iso002           3.0            3.0                   15.0   \n",
       "iso003           3.0            3.0                    7.0   \n",
       "iso004           2.0            2.0                    1.0   \n",
       "...              ...            ...                    ...   \n",
       "iso320           0.0            0.0                    0.0   \n",
       "iso321           1.0            1.0                    1.0   \n",
       "iso322           1.0            1.0                    1.0   \n",
       "iso323           6.0            6.0                   42.0   \n",
       "iso324          10.0           10.0                    1.0   \n",
       "\n",
       "        MM1B_max_bc_per_var  MM1B_filter  total_read_count  total_num_bcs  \\\n",
       "isonum                                                                      \n",
       "iso000                  1.0          0.0               159            7.0   \n",
       "iso001                  1.0          0.0                14            3.0   \n",
       "iso002                  1.0          0.0                18            3.0   \n",
       "iso003                  1.0          3.0                21            3.0   \n",
       "iso004                  1.0          0.0                34            2.0   \n",
       "...                     ...          ...               ...            ...   \n",
       "iso320                  0.0          0.0                 1            0.0   \n",
       "iso321                  1.0          0.0                 2            1.0   \n",
       "iso322                  1.0          0.0                 1            1.0   \n",
       "iso323                  1.0          3.0                87            6.0   \n",
       "iso324                  1.0          0.0               215           10.0   \n",
       "\n",
       "        total_num_vars  total_passfilt  \n",
       "isonum                                  \n",
       "iso000             7.0               0  \n",
       "iso001             3.0               0  \n",
       "iso002             3.0               0  \n",
       "iso003             3.0               1  \n",
       "iso004             2.0               0  \n",
       "...                ...             ...  \n",
       "iso320             0.0               0  \n",
       "iso321             1.0               0  \n",
       "iso322             1.0               0  \n",
       "iso323             6.0               1  \n",
       "iso324            10.0               0  \n",
       "\n",
       "[325 rows x 11 columns]"
      ]
     },
     "execution_count": 24,
     "metadata": {},
     "output_type": "execute_result"
    }
   ],
   "source": [
    "iso_df_stats"
   ]
  },
  {
   "cell_type": "code",
   "execution_count": 25,
   "id": "b4e1a2dc",
   "metadata": {},
   "outputs": [
    {
     "data": {
      "text/plain": [
       "(325, 11)"
      ]
     },
     "execution_count": 25,
     "metadata": {},
     "output_type": "execute_result"
    }
   ],
   "source": [
    "iso_df_stats.shape"
   ]
  },
  {
   "cell_type": "code",
   "execution_count": 26,
   "id": "50384dd4",
   "metadata": {},
   "outputs": [
    {
     "data": {
      "text/plain": [
       "(62, 11)"
      ]
     },
     "execution_count": 26,
     "metadata": {},
     "output_type": "execute_result"
    }
   ],
   "source": [
    "iso_df_stats.query( 'total_passfilt > 0' ).shape"
   ]
  },
  {
   "cell_type": "code",
   "execution_count": 27,
   "id": "8badf38c",
   "metadata": {},
   "outputs": [
    {
     "data": {
      "text/plain": [
       "0.7084504661241333"
      ]
     },
     "execution_count": 27,
     "metadata": {},
     "output_type": "execute_result"
    }
   ],
   "source": [
    "( iso_df_stats.query( 'total_passfilt == 0' ).total_read_count.sum() / iso_df_stats.total_read_count.sum() )*100"
   ]
  },
  {
   "cell_type": "code",
   "execution_count": 28,
   "id": "e4efcdbf",
   "metadata": {},
   "outputs": [
    {
     "data": {
      "text/plain": [
       "1.456918126564176"
      ]
     },
     "execution_count": 28,
     "metadata": {},
     "output_type": "execute_result"
    }
   ],
   "source": [
    "( iso_df_stats.query( 'total_passfilt == 0' ).total_num_bcs.sum() / iso_df_stats.total_num_bcs.sum() )*100"
   ]
  },
  {
   "cell_type": "code",
   "execution_count": 29,
   "id": "da33e87d",
   "metadata": {},
   "outputs": [],
   "source": [
    "! mkdir /nfs/kitzman2/smithcat/proj/wt1_2022/ex9_data"
   ]
  },
  {
   "cell_type": "code",
   "execution_count": 30,
   "id": "92db598a",
   "metadata": {},
   "outputs": [],
   "source": [
    "bdout = '/nfs/kitzman2/smithcat/proj/wt1_2022/ex9_data/'"
   ]
  },
  {
   "cell_type": "code",
   "execution_count": 31,
   "id": "bba0ea78",
   "metadata": {},
   "outputs": [],
   "source": [
    "iso_df_stats.reset_index().to_csv( bdout + 'wt1_ex9_isoforms_2022-0429.txt',\n",
    "                                   sep = '\\t',\n",
    "                                   index = False )"
   ]
  },
  {
   "cell_type": "code",
   "execution_count": null,
   "id": "56ef4bdf",
   "metadata": {},
   "outputs": [],
   "source": []
  }
 ],
 "metadata": {
  "kernelspec": {
   "display_name": "Python 3",
   "language": "python",
   "name": "python3"
  },
  "language_info": {
   "codemirror_mode": {
    "name": "ipython",
    "version": 3
   },
   "file_extension": ".py",
   "mimetype": "text/x-python",
   "name": "python",
   "nbconvert_exporter": "python",
   "pygments_lexer": "ipython3",
   "version": "3.7.9"
  }
 },
 "nbformat": 4,
 "nbformat_minor": 5
}
